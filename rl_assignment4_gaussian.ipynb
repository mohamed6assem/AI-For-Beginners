{
  "nbformat": 4,
  "nbformat_minor": 0,
  "metadata": {
    "colab": {
      "provenance": [],
      "authorship_tag": "ABX9TyPnrM80XppYZ5xMTmSTs3J1",
      "include_colab_link": true
    },
    "kernelspec": {
      "name": "python3",
      "display_name": "Python 3"
    },
    "language_info": {
      "name": "python"
    }
  },
  "cells": [
    {
      "cell_type": "markdown",
      "metadata": {
        "id": "view-in-github",
        "colab_type": "text"
      },
      "source": [
        "<a href=\"https://colab.research.google.com/github/mohamed6assem/AI-For-Beginners/blob/main/rl_assignment4_gaussian.ipynb\" target=\"_parent\"><img src=\"https://colab.research.google.com/assets/colab-badge.svg\" alt=\"Open In Colab\"/></a>"
      ]
    },
    {
      "cell_type": "code",
      "execution_count": 26,
      "metadata": {
        "id": "Q1fjFEx_fVVb"
      },
      "outputs": [],
      "source": [
        "from sklearn.decomposition import PCA"
      ]
    },
    {
      "cell_type": "code",
      "source": [
        "from sklearn.datasets import fetch_olivetti_faces"
      ],
      "metadata": {
        "id": "Xy9uq3FGfv_T"
      },
      "execution_count": 27,
      "outputs": []
    },
    {
      "cell_type": "code",
      "source": [
        "faces = fetch_olivetti_faces(return_X_y=True)"
      ],
      "metadata": {
        "id": "nqLnoCqW_ILR"
      },
      "execution_count": 28,
      "outputs": []
    },
    {
      "cell_type": "code",
      "source": [
        "faces"
      ],
      "metadata": {
        "colab": {
          "base_uri": "https://localhost:8080/"
        },
        "id": "c5gWpi4F_RoC",
        "outputId": "5dfbb882-2b28-4a00-e8b1-6e502d705e75"
      },
      "execution_count": 29,
      "outputs": [
        {
          "output_type": "execute_result",
          "data": {
            "text/plain": [
              "(array([[0.30991736, 0.3677686 , 0.41735536, ..., 0.15289256, 0.16115703,\n",
              "         0.1570248 ],\n",
              "        [0.45454547, 0.47107437, 0.5123967 , ..., 0.15289256, 0.15289256,\n",
              "         0.15289256],\n",
              "        [0.3181818 , 0.40082645, 0.49173555, ..., 0.14049587, 0.14876033,\n",
              "         0.15289256],\n",
              "        ...,\n",
              "        [0.5       , 0.53305787, 0.607438  , ..., 0.17768595, 0.14876033,\n",
              "         0.19008264],\n",
              "        [0.21487603, 0.21900827, 0.21900827, ..., 0.57438016, 0.59090906,\n",
              "         0.60330576],\n",
              "        [0.5165289 , 0.46280992, 0.28099173, ..., 0.35950413, 0.3553719 ,\n",
              "         0.38429752]], dtype=float32),\n",
              " array([ 0,  0,  0,  0,  0,  0,  0,  0,  0,  0,  1,  1,  1,  1,  1,  1,  1,\n",
              "         1,  1,  1,  2,  2,  2,  2,  2,  2,  2,  2,  2,  2,  3,  3,  3,  3,\n",
              "         3,  3,  3,  3,  3,  3,  4,  4,  4,  4,  4,  4,  4,  4,  4,  4,  5,\n",
              "         5,  5,  5,  5,  5,  5,  5,  5,  5,  6,  6,  6,  6,  6,  6,  6,  6,\n",
              "         6,  6,  7,  7,  7,  7,  7,  7,  7,  7,  7,  7,  8,  8,  8,  8,  8,\n",
              "         8,  8,  8,  8,  8,  9,  9,  9,  9,  9,  9,  9,  9,  9,  9, 10, 10,\n",
              "        10, 10, 10, 10, 10, 10, 10, 10, 11, 11, 11, 11, 11, 11, 11, 11, 11,\n",
              "        11, 12, 12, 12, 12, 12, 12, 12, 12, 12, 12, 13, 13, 13, 13, 13, 13,\n",
              "        13, 13, 13, 13, 14, 14, 14, 14, 14, 14, 14, 14, 14, 14, 15, 15, 15,\n",
              "        15, 15, 15, 15, 15, 15, 15, 16, 16, 16, 16, 16, 16, 16, 16, 16, 16,\n",
              "        17, 17, 17, 17, 17, 17, 17, 17, 17, 17, 18, 18, 18, 18, 18, 18, 18,\n",
              "        18, 18, 18, 19, 19, 19, 19, 19, 19, 19, 19, 19, 19, 20, 20, 20, 20,\n",
              "        20, 20, 20, 20, 20, 20, 21, 21, 21, 21, 21, 21, 21, 21, 21, 21, 22,\n",
              "        22, 22, 22, 22, 22, 22, 22, 22, 22, 23, 23, 23, 23, 23, 23, 23, 23,\n",
              "        23, 23, 24, 24, 24, 24, 24, 24, 24, 24, 24, 24, 25, 25, 25, 25, 25,\n",
              "        25, 25, 25, 25, 25, 26, 26, 26, 26, 26, 26, 26, 26, 26, 26, 27, 27,\n",
              "        27, 27, 27, 27, 27, 27, 27, 27, 28, 28, 28, 28, 28, 28, 28, 28, 28,\n",
              "        28, 29, 29, 29, 29, 29, 29, 29, 29, 29, 29, 30, 30, 30, 30, 30, 30,\n",
              "        30, 30, 30, 30, 31, 31, 31, 31, 31, 31, 31, 31, 31, 31, 32, 32, 32,\n",
              "        32, 32, 32, 32, 32, 32, 32, 33, 33, 33, 33, 33, 33, 33, 33, 33, 33,\n",
              "        34, 34, 34, 34, 34, 34, 34, 34, 34, 34, 35, 35, 35, 35, 35, 35, 35,\n",
              "        35, 35, 35, 36, 36, 36, 36, 36, 36, 36, 36, 36, 36, 37, 37, 37, 37,\n",
              "        37, 37, 37, 37, 37, 37, 38, 38, 38, 38, 38, 38, 38, 38, 38, 38, 39,\n",
              "        39, 39, 39, 39, 39, 39, 39, 39, 39]))"
            ]
          },
          "metadata": {},
          "execution_count": 29
        }
      ]
    },
    {
      "cell_type": "code",
      "source": [
        "X = faces[0]"
      ],
      "metadata": {
        "id": "CmmUqaMN_rDK"
      },
      "execution_count": 30,
      "outputs": []
    },
    {
      "cell_type": "code",
      "source": [
        "y = faces[1]"
      ],
      "metadata": {
        "id": "gF0uykIH_vuw"
      },
      "execution_count": 31,
      "outputs": []
    },
    {
      "cell_type": "code",
      "source": [
        "from sklearn.model_selection import StratifiedKFold\n",
        "# Break up the dataset into non-overlapping training (75%) and testing\n",
        "# (25%) sets.\n",
        "skf = StratifiedKFold(n_splits=4)\n",
        "# Only take the first fold.\n",
        "train_index, test_index = next(iter(skf.split(X, y)))\n",
        "\n",
        "\n",
        "X_train = X[train_index]\n",
        "y_train = y[train_index]\n",
        "X_test = X[test_index]\n",
        "y_test = y[test_index]"
      ],
      "metadata": {
        "id": "n_uipzT3XB2c"
      },
      "execution_count": 32,
      "outputs": []
    },
    {
      "cell_type": "code",
      "source": [
        "X_train = X_train.astype(float)\n",
        "y_train = y_train.astype(float)\n",
        "X_test = X_test.astype(float)\n",
        "y_test = y_test.astype(float)"
      ],
      "metadata": {
        "id": "9C8I8v1GZpo1"
      },
      "execution_count": 33,
      "outputs": []
    },
    {
      "cell_type": "markdown",
      "source": [
        "Use PCA preserving 99% of the variance to reduce the dataset’s dimensionality. [10 points]\n"
      ],
      "metadata": {
        "id": "jakj4mf1kt1a"
      }
    },
    {
      "cell_type": "code",
      "source": [
        "from sklearn.preprocessing import StandardScaler\n",
        "scaler = StandardScaler()\n",
        "# Fit on training set only.\n",
        "scaler.fit(X_train)\n",
        "# Apply transform to both the training set and the test set.\n",
        "X_train = scaler.transform(X_train)\n",
        "X_test = scaler.transform(X_test)"
      ],
      "metadata": {
        "id": "TbnkB_V8WL-m"
      },
      "execution_count": 34,
      "outputs": []
    },
    {
      "cell_type": "code",
      "source": [
        "pca = PCA(n_components=0.99)\n",
        "pca.fit(X_train)\n",
        "X_train = pca.transform(X_train)\n",
        "X_test = pca.transform(X_test)\n"
      ],
      "metadata": {
        "id": "MY-Ms411lvFT"
      },
      "execution_count": 35,
      "outputs": []
    },
    {
      "cell_type": "code",
      "source": [
        "X_train.shape"
      ],
      "metadata": {
        "colab": {
          "base_uri": "https://localhost:8080/"
        },
        "id": "YBLILUY5AWV2",
        "outputId": "320130ea-7197-49f7-9ad4-b7f06fdfaa5b"
      },
      "execution_count": 36,
      "outputs": [
        {
          "output_type": "execute_result",
          "data": {
            "text/plain": [
              "(300, 211)"
            ]
          },
          "metadata": {},
          "execution_count": 36
        }
      ]
    },
    {
      "cell_type": "code",
      "source": [
        "X.shape"
      ],
      "metadata": {
        "colab": {
          "base_uri": "https://localhost:8080/"
        },
        "id": "gJ2bVbopAhHS",
        "outputId": "edc86b28-f1e6-463f-852f-fdf599872a64"
      },
      "execution_count": 37,
      "outputs": [
        {
          "output_type": "execute_result",
          "data": {
            "text/plain": [
              "(400, 4096)"
            ]
          },
          "metadata": {},
          "execution_count": 37
        }
      ]
    },
    {
      "cell_type": "code",
      "source": [
        "y.shape"
      ],
      "metadata": {
        "id": "HdTSYsZXAx5v",
        "outputId": "e658cb83-311d-4ab5-8500-f0d373901f8e",
        "colab": {
          "base_uri": "https://localhost:8080/"
        }
      },
      "execution_count": 38,
      "outputs": [
        {
          "output_type": "execute_result",
          "data": {
            "text/plain": [
              "(400,)"
            ]
          },
          "metadata": {},
          "execution_count": 38
        }
      ]
    },
    {
      "cell_type": "markdown",
      "source": [
        "\n",
        "Determine the most suitable covariance_type for the dataset. [15 points]\n"
      ],
      "metadata": {
        "id": "MnBmhGhckz9S"
      }
    },
    {
      "cell_type": "code",
      "source": [
        "X_test.shape"
      ],
      "metadata": {
        "colab": {
          "base_uri": "https://localhost:8080/"
        },
        "id": "zA0aKtweYYdP",
        "outputId": "9bc2f4a9-ca24-4845-94c8-683a1c34837f"
      },
      "execution_count": 39,
      "outputs": [
        {
          "output_type": "execute_result",
          "data": {
            "text/plain": [
              "(100, 211)"
            ]
          },
          "metadata": {},
          "execution_count": 39
        }
      ]
    },
    {
      "cell_type": "code",
      "source": [
        "X_train.shape"
      ],
      "metadata": {
        "colab": {
          "base_uri": "https://localhost:8080/"
        },
        "id": "pOnB5tN0YasY",
        "outputId": "45a173b1-cbdb-4e9c-c22b-52cdfed8c519"
      },
      "execution_count": 40,
      "outputs": [
        {
          "output_type": "execute_result",
          "data": {
            "text/plain": [
              "(300, 211)"
            ]
          },
          "metadata": {},
          "execution_count": 40
        }
      ]
    },
    {
      "cell_type": "code",
      "source": [
        "import matplotlib as mpl\n",
        "import matplotlib.pyplot as plt\n",
        "\n",
        "import numpy as np\n",
        "\n",
        "#from sklearn import datasets\n",
        "from sklearn.mixture import GaussianMixture\n",
        "\n",
        "\n",
        "colors = [\"navy\", \"turquoise\", \"darkorange\"]\n",
        "\n",
        "\n",
        "def make_ellipses(gmm, ax):\n",
        "    for n, color in enumerate(colors):\n",
        "        if gmm.covariance_type == \"full\":\n",
        "            covariances = gmm.covariances_[n][:2, :2]\n",
        "        elif gmm.covariance_type == \"tied\":\n",
        "            covariances = gmm.covariances_[:2, :2]\n",
        "        elif gmm.covariance_type == \"diag\":\n",
        "            covariances = np.diag(gmm.covariances_[n][:2])\n",
        "        elif gmm.covariance_type == \"spherical\":\n",
        "            covariances = np.eye(gmm.means_.shape[1]) * gmm.covariances_[n]\n",
        "        v, w = np.linalg.eigh(covariances)\n",
        "        u = w[0] / np.linalg.norm(w[0])\n",
        "        angle = np.arctan2(u[1], u[0])\n",
        "        angle = 180 * angle / np.pi  # convert to degrees\n",
        "        v = 2.0 * np.sqrt(2.0) * np.sqrt(v)\n",
        "        ell = mpl.patches.Ellipse(\n",
        "            gmm.means_[n, :2], v[0], v[1], 180 + angle, color=color\n",
        "        )\n",
        "        ell.set_clip_box(ax.bbox)\n",
        "        ell.set_alpha(0.5)\n",
        "        ax.add_artist(ell)\n",
        "        ax.set_aspect(\"equal\", \"datalim\")\n",
        "\n",
        "\n",
        "#iris = datasets.load_iris()\n",
        "\n",
        "\n",
        "\n",
        "n_classes = len(np.unique(y_train))\n",
        "\n",
        "# Try GMMs using different types of covariances.\n",
        "estimators = {\n",
        "    cov_type: GaussianMixture(\n",
        "        n_components=n_classes, covariance_type=cov_type, max_iter=20, random_state=0\n",
        "    )\n",
        "    for cov_type in [\"spherical\", \"diag\", \"tied\", \"full\"]\n",
        "}\n",
        "\n",
        "n_estimators = len(estimators)\n",
        "\n",
        "plt.figure(figsize=(3 * n_estimators // 2, 6))\n",
        "plt.subplots_adjust(\n",
        "    bottom=0.01, top=0.95, hspace=0.15, wspace=0.05, left=0.01, right=0.99\n",
        ")\n",
        "\n",
        "\n",
        "for index, (name, estimator) in enumerate(estimators.items()):\n",
        "    # Since we have class labels for the training data, we can\n",
        "    # initialize the GMM parameters in a supervised manner.\n",
        "    estimator.means_init = np.array(\n",
        "        [X_train[y_train == i].mean(axis=0) for i in range(n_classes)]\n",
        "    )\n",
        "\n",
        "    # Train the other parameters using the EM algorithm.\n",
        "    estimator.fit(X_train)\n",
        "\n",
        "    h = plt.subplot(2, n_estimators // 2, index + 1)\n",
        "    make_ellipses(estimator, h)\n",
        "\n",
        "    for n, color in enumerate(colors):\n",
        "        data = X_train[y_train == n]\n",
        "        plt.scatter(\n",
        "            data[:, 0], data[:, 1], s=0.8, color=color\n",
        "        )\n",
        "    # Plot the test data with crosses\n",
        "    for n, color in enumerate(colors):\n",
        "        data = X_test[y_test == n]\n",
        "        plt.scatter(data[:, 0], data[:, 1], marker=\"x\", color=color)\n",
        "\n",
        "    y_train_pred = estimator.predict(X_train)\n",
        "    train_accuracy = np.mean(y_train_pred.ravel() == y_train.ravel()) * 100\n",
        "    plt.text(0.05, 0.9, \"Train accuracy: %.1f\" % train_accuracy, transform=h.transAxes)\n",
        "\n",
        "    y_test_pred = estimator.predict(X_test)\n",
        "    test_accuracy = np.mean(y_test_pred.ravel() == y_test.ravel()) * 100\n",
        "    plt.text(0.05, 0.8, \"Test accuracy: %.1f\" % test_accuracy, transform=h.transAxes)\n",
        "\n",
        "    plt.xticks(())\n",
        "    plt.yticks(())\n",
        "    plt.title(name)\n",
        "\n",
        "plt.legend(scatterpoints=1, loc=\"lower right\", prop=dict(size=12))\n",
        "\n",
        "\n",
        "plt.show()"
      ],
      "metadata": {
        "colab": {
          "base_uri": "https://localhost:8080/",
          "height": 473
        },
        "id": "nCb3jXOHkhNt",
        "outputId": "07043886-27d3-48fe-9b0d-f78ac45b975f"
      },
      "execution_count": 41,
      "outputs": [
        {
          "output_type": "stream",
          "name": "stderr",
          "text": [
            "WARNING:matplotlib.legend:No handles with labels found to put in legend.\n"
          ]
        },
        {
          "output_type": "display_data",
          "data": {
            "text/plain": [
              "<Figure size 432x432 with 4 Axes>"
            ],
            "image/png": "[encoded data removed]"
          },
          "metadata": {}
        }
      ]
    },
    {
      "cell_type": "markdown",
      "source": [
        "full covariance seems to be the best based on the gmm code I ran\n"
      ],
      "metadata": {
        "id": "dfpJ1CklmRhb"
      }
    },
    {
      "cell_type": "markdown",
      "source": [
        "\n",
        "Determine the minimum number of clusters that best represent the dataset using either AIC or BIC. [15 points]\n"
      ],
      "metadata": {
        "id": "FzOBs9QWlC63"
      }
    },
    {
      "cell_type": "code",
      "source": [
        "#from sklearn.mixture import BayesianGaussianMixture\n",
        "#bgm = BayesianGaussianMixture(n_components=45, n_init=10, random_state=94)\n",
        "#bgm.fit(X_train)\n",
        "#np.round(bgm.weights_,2)"
      ],
      "metadata": {
        "id": "_BEx4cKoxtT-"
      },
      "execution_count": null,
      "outputs": []
    },
    {
      "cell_type": "code",
      "source": [
        "# Try GMMs using different numbers of classes.\n",
        "estimators_classes = {\n",
        "    n_classes: GaussianMixture(\n",
        "        n_components=n_classes, covariance_type=\"full\", max_iter=20, random_state=0\n",
        "    )\n",
        "    for n_classes in range(41)\n",
        "}"
      ],
      "metadata": {
        "id": "4IIwvwhS1MqR"
      },
      "execution_count": 42,
      "outputs": []
    },
    {
      "cell_type": "code",
      "source": [
        "estimators_classes"
      ],
      "metadata": {
        "colab": {
          "base_uri": "https://localhost:8080/"
        },
        "id": "RoL-IlCjy6bU",
        "outputId": "b6ea7a45-03ba-49b6-9764-0685d41d0683"
      },
      "execution_count": 43,
      "outputs": [
        {
          "output_type": "execute_result",
          "data": {
            "text/plain": [
              "{0: GaussianMixture(max_iter=20, n_components=0, random_state=0),\n",
              " 1: GaussianMixture(max_iter=20, random_state=0),\n",
              " 2: GaussianMixture(max_iter=20, n_components=2, random_state=0),\n",
              " 3: GaussianMixture(max_iter=20, n_components=3, random_state=0),\n",
              " 4: GaussianMixture(max_iter=20, n_components=4, random_state=0),\n",
              " 5: GaussianMixture(max_iter=20, n_components=5, random_state=0),\n",
              " 6: GaussianMixture(max_iter=20, n_components=6, random_state=0),\n",
              " 7: GaussianMixture(max_iter=20, n_components=7, random_state=0),\n",
              " 8: GaussianMixture(max_iter=20, n_components=8, random_state=0),\n",
              " 9: GaussianMixture(max_iter=20, n_components=9, random_state=0),\n",
              " 10: GaussianMixture(max_iter=20, n_components=10, random_state=0),\n",
              " 11: GaussianMixture(max_iter=20, n_components=11, random_state=0),\n",
              " 12: GaussianMixture(max_iter=20, n_components=12, random_state=0),\n",
              " 13: GaussianMixture(max_iter=20, n_components=13, random_state=0),\n",
              " 14: GaussianMixture(max_iter=20, n_components=14, random_state=0),\n",
              " 15: GaussianMixture(max_iter=20, n_components=15, random_state=0),\n",
              " 16: GaussianMixture(max_iter=20, n_components=16, random_state=0),\n",
              " 17: GaussianMixture(max_iter=20, n_components=17, random_state=0),\n",
              " 18: GaussianMixture(max_iter=20, n_components=18, random_state=0),\n",
              " 19: GaussianMixture(max_iter=20, n_components=19, random_state=0),\n",
              " 20: GaussianMixture(max_iter=20, n_components=20, random_state=0),\n",
              " 21: GaussianMixture(max_iter=20, n_components=21, random_state=0),\n",
              " 22: GaussianMixture(max_iter=20, n_components=22, random_state=0),\n",
              " 23: GaussianMixture(max_iter=20, n_components=23, random_state=0),\n",
              " 24: GaussianMixture(max_iter=20, n_components=24, random_state=0),\n",
              " 25: GaussianMixture(max_iter=20, n_components=25, random_state=0),\n",
              " 26: GaussianMixture(max_iter=20, n_components=26, random_state=0),\n",
              " 27: GaussianMixture(max_iter=20, n_components=27, random_state=0),\n",
              " 28: GaussianMixture(max_iter=20, n_components=28, random_state=0),\n",
              " 29: GaussianMixture(max_iter=20, n_components=29, random_state=0),\n",
              " 30: GaussianMixture(max_iter=20, n_components=30, random_state=0),\n",
              " 31: GaussianMixture(max_iter=20, n_components=31, random_state=0),\n",
              " 32: GaussianMixture(max_iter=20, n_components=32, random_state=0),\n",
              " 33: GaussianMixture(max_iter=20, n_components=33, random_state=0),\n",
              " 34: GaussianMixture(max_iter=20, n_components=34, random_state=0),\n",
              " 35: GaussianMixture(max_iter=20, n_components=35, random_state=0),\n",
              " 36: GaussianMixture(max_iter=20, n_components=36, random_state=0),\n",
              " 37: GaussianMixture(max_iter=20, n_components=37, random_state=0),\n",
              " 38: GaussianMixture(max_iter=20, n_components=38, random_state=0),\n",
              " 39: GaussianMixture(max_iter=20, n_components=39, random_state=0),\n",
              " 40: GaussianMixture(max_iter=20, n_components=40, random_state=0)}"
            ]
          },
          "metadata": {},
          "execution_count": 43
        }
      ]
    },
    {
      "cell_type": "code",
      "source": [
        "for i in range(1,41):\n",
        "  estimators_classes[i].fit(X_train)"
      ],
      "metadata": {
        "id": "Wpx02UVE8LJE"
      },
      "execution_count": 44,
      "outputs": []
    },
    {
      "cell_type": "code",
      "source": [
        "bic_array = []\n",
        "for i in range(1, 41):\n",
        "  j = estimators_classes[i].bic(X_train)\n",
        "  bic_array.append(j)"
      ],
      "metadata": {
        "id": "n6vyqBS89AxH"
      },
      "execution_count": 45,
      "outputs": []
    },
    {
      "cell_type": "code",
      "source": [
        "plt.plot(range(40), bic_array)\n",
        "plt.show()"
      ],
      "metadata": {
        "colab": {
          "base_uri": "https://localhost:8080/",
          "height": 276
        },
        "id": "pVsWNK7Q2DwT",
        "outputId": "7d4c76a9-9d18-4253-abea-06d2a4d4f12d"
      },
      "execution_count": 46,
      "outputs": [
        {
          "output_type": "display_data",
          "data": {
            "text/plain": [
              "<Figure size 432x288 with 1 Axes>"
            ],
            "image/png": "[encoded data removed]"
          },
          "metadata": {
            "needs_background": "light"
          }
        }
      ]
    },
    {
      "cell_type": "code",
      "source": [
        "for i in range(5):\n",
        "  print(i, bic_array[i])"
      ],
      "metadata": {
        "colab": {
          "base_uri": "https://localhost:8080/"
        },
        "id": "mkkmE5dc2idX",
        "outputId": "5efa1a77-a447-4237-eca1-3dd4964dfcb5"
      },
      "execution_count": 47,
      "outputs": [
        {
          "output_type": "stream",
          "name": "stdout",
          "text": [
            "0 397923.76596259704\n",
            "1 329588.1964226653\n",
            "2 168982.24596320023\n",
            "3 151855.2966140721\n",
            "4 224494.70103162888\n"
          ]
        }
      ]
    },
    {
      "cell_type": "code",
      "source": [
        "estimators_classes[4].bic(X_train)"
      ],
      "metadata": {
        "colab": {
          "base_uri": "https://localhost:8080/"
        },
        "id": "V3R3hAjP4ubv",
        "outputId": "45bb0669-c7af-4af0-808d-4483ac876688"
      },
      "execution_count": 49,
      "outputs": [
        {
          "output_type": "execute_result",
          "data": {
            "text/plain": [
              "151855.2966140721"
            ]
          },
          "metadata": {},
          "execution_count": 49
        }
      ]
    },
    {
      "cell_type": "markdown",
      "source": [
        "a minimum of 4 clusters best represent the dataset according to BIC"
      ],
      "metadata": {
        "id": "Xz2QrqKi4832"
      }
    },
    {
      "cell_type": "code",
      "source": [
        "chosen_estimator = estimators_classes[4]"
      ],
      "metadata": {
        "id": "FYWNWnp-7l_T"
      },
      "execution_count": 50,
      "outputs": []
    },
    {
      "cell_type": "markdown",
      "source": [
        "\n",
        "Output the hard clustering for each instance. [2.5 points]\n"
      ],
      "metadata": {
        "id": "AXTB5srElE8L"
      }
    },
    {
      "cell_type": "code",
      "source": [
        "chosen_estimator.predict(X_train)"
      ],
      "metadata": {
        "colab": {
          "base_uri": "https://localhost:8080/"
        },
        "id": "77YhpKQ15yA9",
        "outputId": "987d47c5-d067-4e88-a939-49539d303ae6"
      },
      "execution_count": 51,
      "outputs": [
        {
          "output_type": "execute_result",
          "data": {
            "text/plain": [
              "array([3, 2, 3, 2, 3, 3, 1, 2, 2, 2, 2, 2, 2, 2, 2, 1, 1, 1, 3, 3, 1, 1,\n",
              "       1, 2, 2, 3, 3, 1, 2, 2, 1, 3, 3, 3, 3, 3, 3, 2, 3, 3, 3, 3, 3, 3,\n",
              "       3, 3, 3, 3, 2, 2, 3, 3, 2, 2, 2, 2, 2, 2, 3, 2, 1, 1, 3, 3, 1, 1,\n",
              "       1, 1, 1, 1, 1, 1, 1, 3, 2, 2, 2, 2, 2, 2, 2, 2, 1, 1, 1, 3, 1, 1,\n",
              "       1, 1, 3, 3, 2, 3, 3, 1, 3, 1, 1, 1, 1, 1, 1, 1, 1, 2, 1, 2, 1, 1,\n",
              "       1, 1, 2, 2, 2, 2, 2, 3, 2, 2, 1, 3, 3, 3, 3, 3, 3, 3, 1, 3, 3, 2,\n",
              "       3, 3, 3, 2, 2, 2, 2, 2, 2, 2, 0, 1, 3, 1, 3, 3, 3, 0, 1, 1, 1, 3,\n",
              "       3, 1, 3, 0, 0, 0, 0, 0, 0, 0, 0, 3, 1, 3, 1, 2, 3, 3, 0, 3, 2, 3,\n",
              "       3, 3, 0, 0, 2, 1, 1, 1, 3, 1, 1, 1, 1, 1, 1, 2, 1, 1, 1, 2, 2, 2,\n",
              "       1, 2, 2, 2, 2, 2, 2, 2, 2, 2, 1, 3, 0, 3, 1, 1, 3, 0, 0, 1, 0, 0,\n",
              "       1, 0, 0, 1, 1, 0, 0, 0, 0, 0, 0, 0, 2, 2, 2, 2, 2, 2, 2, 2, 0, 0,\n",
              "       0, 0, 0, 0, 0, 0, 0, 0, 0, 0, 0, 0, 0, 0, 3, 1, 1, 1, 3, 3, 3, 3,\n",
              "       3, 3, 3, 3, 3, 3, 0, 0, 0, 1, 0, 1, 1, 1, 1, 1, 1, 1, 1, 3, 1, 0,\n",
              "       0, 0, 0, 0, 0, 0, 3, 3, 3, 1, 3, 1, 3, 3])"
            ]
          },
          "metadata": {},
          "execution_count": 51
        }
      ]
    },
    {
      "cell_type": "markdown",
      "source": [
        "\n",
        "Output the soft clustering for each instance. [2.5 points]\n"
      ],
      "metadata": {
        "id": "Iant6FbclF9B"
      }
    },
    {
      "cell_type": "code",
      "source": [
        "chosen_estimator.predict_proba(X_train)"
      ],
      "metadata": {
        "colab": {
          "base_uri": "https://localhost:8080/"
        },
        "id": "HYb6IRED6A6r",
        "outputId": "ebb5851c-1c74-4b34-e284-c710571d1360"
      },
      "execution_count": 52,
      "outputs": [
        {
          "output_type": "execute_result",
          "data": {
            "text/plain": [
              "array([[0., 0., 0., 1.],\n",
              "       [0., 0., 1., 0.],\n",
              "       [0., 0., 0., 1.],\n",
              "       ...,\n",
              "       [0., 1., 0., 0.],\n",
              "       [0., 0., 0., 1.],\n",
              "       [0., 0., 0., 1.]])"
            ]
          },
          "metadata": {},
          "execution_count": 52
        }
      ]
    },
    {
      "cell_type": "markdown",
      "source": [
        "\n",
        "Use the model to generate some new faces (using the sample() method), and visualize them (use the inverse_transform() method to transform the data back to its original space based on the PCA method used). [15 points]\n"
      ],
      "metadata": {
        "id": "12pWdy6dlG9h"
      }
    },
    {
      "cell_type": "code",
      "source": [
        "X_new, y_new = chosen_estimator.sample(5)"
      ],
      "metadata": {
        "id": "u-uX4De57132"
      },
      "execution_count": 53,
      "outputs": []
    },
    {
      "cell_type": "code",
      "source": [
        "X_new"
      ],
      "metadata": {
        "id": "3_gyS8MB7uOS",
        "colab": {
          "base_uri": "https://localhost:8080/"
        },
        "outputId": "80199175-e160-408a-9eff-62a956c1b4c7"
      },
      "execution_count": 54,
      "outputs": [
        {
          "output_type": "execute_result",
          "data": {
            "text/plain": [
              "array([[ 86.68511754, -41.30775502,  23.2951141 , ...,   0.71228099,\n",
              "         -0.53030883,   1.49362537],\n",
              "       [ -6.91997544, -10.99949776,  13.76755481, ...,   1.27396023,\n",
              "          1.07057114,  -0.37123203],\n",
              "       [-13.27445516, -14.75195104,   3.97865687, ...,   1.12156187,\n",
              "          1.51073054,   1.09918659],\n",
              "       [-16.28253887, -34.12064034,  -5.21848928, ...,   0.9880917 ,\n",
              "         -1.48772202,  -0.70176652],\n",
              "       [-18.15962683,   8.46750756, -10.57674488, ...,  -0.47408216,\n",
              "         -1.54488749,  -2.99020813]])"
            ]
          },
          "metadata": {},
          "execution_count": 54
        }
      ]
    },
    {
      "cell_type": "code",
      "source": [
        "X_new.shape"
      ],
      "metadata": {
        "colab": {
          "base_uri": "https://localhost:8080/"
        },
        "id": "bMxoaz1_bJDm",
        "outputId": "096e60d8-ed76-4567-ce9f-7bcb625ba437"
      },
      "execution_count": 55,
      "outputs": [
        {
          "output_type": "execute_result",
          "data": {
            "text/plain": [
              "(5, 211)"
            ]
          },
          "metadata": {},
          "execution_count": 55
        }
      ]
    },
    {
      "cell_type": "code",
      "source": [
        "y_new.shape"
      ],
      "metadata": {
        "colab": {
          "base_uri": "https://localhost:8080/"
        },
        "id": "34quTFE_biSZ",
        "outputId": "fe49381e-e6dd-478c-8a78-d9efb7e1d33d"
      },
      "execution_count": 56,
      "outputs": [
        {
          "output_type": "execute_result",
          "data": {
            "text/plain": [
              "(5,)"
            ]
          },
          "metadata": {},
          "execution_count": 56
        }
      ]
    },
    {
      "cell_type": "code",
      "source": [
        "X_new_inverse_pca = pca.inverse_transform(X_new)"
      ],
      "metadata": {
        "id": "S_Dvc-jkbn4Y"
      },
      "execution_count": 57,
      "outputs": []
    },
    {
      "cell_type": "code",
      "source": [
        "X_new_inverse_pca.shape"
      ],
      "metadata": {
        "colab": {
          "base_uri": "https://localhost:8080/"
        },
        "id": "pAdXbiRedVfv",
        "outputId": "65598545-71f6-48bb-e5d5-8dd273a30f1f"
      },
      "execution_count": 58,
      "outputs": [
        {
          "output_type": "execute_result",
          "data": {
            "text/plain": [
              "(5, 4096)"
            ]
          },
          "metadata": {},
          "execution_count": 58
        }
      ]
    },
    {
      "cell_type": "code",
      "source": [
        "for i in range(5):\n",
        "  ax = plt.subplot(1, 5, i+1)\n",
        "  plt.imshow(X_new_inverse_pca[i].reshape(64,64))\n",
        "  plt.gray()"
      ],
      "metadata": {
        "colab": {
          "base_uri": "https://localhost:8080/",
          "height": 109
        },
        "id": "XgfASUTNf6Mr",
        "outputId": "eef5f3d6-0b3c-48cd-8573-717d7d583ee5"
      },
      "execution_count": 59,
      "outputs": [
        {
          "output_type": "display_data",
          "data": {
            "text/plain": [
              "<Figure size 432x288 with 5 Axes>"
            ],
            "image/png": "[encoded data removed]"
          },
          "metadata": {
            "needs_background": "light"
          }
        }
      ]
    },
    {
      "cell_type": "markdown",
      "source": [
        "8\n",
        "Modify some images (e.g., rotate, flip, darken). [15 points]"
      ],
      "metadata": {
        "id": "vIXa-eJolHxw"
      }
    },
    {
      "cell_type": "code",
      "source": [
        "X_train_inverse_pca = pca.inverse_transform(X_train)"
      ],
      "metadata": {
        "id": "9_e_PeYUQMrZ"
      },
      "execution_count": 60,
      "outputs": []
    },
    {
      "cell_type": "code",
      "source": [
        "n_rotated = 2\n",
        "X_rotated = np.transpose(X_train_inverse_pca[:n_rotated].reshape(-1, 64, 64), axes=[0, 2, 1])\n",
        "X_rotated = X_rotated.reshape(-1, 64*64)\n",
        "y_rotated = y_train[:n_rotated]"
      ],
      "metadata": {
        "id": "Xotiaa86d2ki"
      },
      "execution_count": 61,
      "outputs": []
    },
    {
      "cell_type": "code",
      "source": [
        "for i in range(2):\n",
        "  ax = plt.subplot(1, 2, i+1)\n",
        "  plt.imshow(X_rotated[i].reshape(64,64))\n",
        "  plt.gray()"
      ],
      "metadata": {
        "colab": {
          "base_uri": "https://localhost:8080/",
          "height": 203
        },
        "id": "tQxABHLAQrSy",
        "outputId": "67a03a51-4481-483e-a5b7-5ed6a133a10c"
      },
      "execution_count": 62,
      "outputs": [
        {
          "output_type": "display_data",
          "data": {
            "text/plain": [
              "<Figure size 432x288 with 2 Axes>"
            ],
            "image/png": "[encoded data removed]"
          },
          "metadata": {
            "needs_background": "light"
          }
        }
      ]
    },
    {
      "cell_type": "code",
      "source": [
        "y_rotated"
      ],
      "metadata": {
        "colab": {
          "base_uri": "https://localhost:8080/"
        },
        "id": "mlB-qDEkRUOz",
        "outputId": "049a61bb-97b6-4921-ff86-4cf7fcc9888b"
      },
      "execution_count": 63,
      "outputs": [
        {
          "output_type": "execute_result",
          "data": {
            "text/plain": [
              "array([0., 0.])"
            ]
          },
          "metadata": {},
          "execution_count": 63
        }
      ]
    },
    {
      "cell_type": "code",
      "source": [
        "n_flipped = 5\n",
        "flipped = X_train_inverse_pca[3:n_flipped].reshape(-1, 64, 64)[:, ::-1]\n",
        "flipped = flipped.reshape(-1, 64*64)\n",
        "y_flipped = y_train[:n_flipped]"
      ],
      "metadata": {
        "id": "UweqEgXRR10w"
      },
      "execution_count": 64,
      "outputs": []
    },
    {
      "cell_type": "code",
      "source": [
        "for i in range(2):\n",
        "  ax = plt.subplot(1, 2, i+1)\n",
        "  plt.imshow(flipped[i].reshape(64,64))\n",
        "  plt.gray()"
      ],
      "metadata": {
        "colab": {
          "base_uri": "https://localhost:8080/",
          "height": 203
        },
        "id": "Nptstwr0R_Li",
        "outputId": "bf4f5733-b13d-4d21-d151-b90ff7ed3564"
      },
      "execution_count": 65,
      "outputs": [
        {
          "output_type": "display_data",
          "data": {
            "text/plain": [
              "<Figure size 432x288 with 2 Axes>"
            ],
            "image/png": "[encoded data removed]"
          },
          "metadata": {
            "needs_background": "light"
          }
        }
      ]
    },
    {
      "cell_type": "code",
      "source": [
        "n_darkened = 13\n",
        "darkened = X_train_inverse_pca[10:n_darkened].copy()\n",
        "darkened[:, 1:-1] *= 0.3\n",
        "y_darkened = y_train[:n_darkened]"
      ],
      "metadata": {
        "id": "dfc7OQ5KSlZH"
      },
      "execution_count": 66,
      "outputs": []
    },
    {
      "cell_type": "code",
      "source": [
        "for i in range(3):\n",
        "  ax = plt.subplot(1, 3, i+1)\n",
        "  plt.imshow(darkened[i].reshape(64,64))\n",
        "  plt.gray()"
      ],
      "metadata": {
        "colab": {
          "base_uri": "https://localhost:8080/",
          "height": 150
        },
        "id": "uKEcbQVaStON",
        "outputId": "00e4c8f7-820b-4778-f341-0c32295163ac"
      },
      "execution_count": 67,
      "outputs": [
        {
          "output_type": "display_data",
          "data": {
            "text/plain": [
              "<Figure size 432x288 with 3 Axes>"
            ],
            "image/png": "[encoded data removed]"
          },
          "metadata": {
            "needs_background": "light"
          }
        }
      ]
    },
    {
      "cell_type": "markdown",
      "source": [
        "\n",
        "Determine if the model can detect the anomalies produced in (8) by comparing the output of the score_samples() method for normal images and for anomalies). [10 points]"
      ],
      "metadata": {
        "id": "YrTq3mTnlIhq"
      }
    },
    {
      "cell_type": "code",
      "source": [
        "X_altered_faces = np.r_[X_rotated, flipped, darkened]"
      ],
      "metadata": {
        "id": "lD1sEN99TgRC"
      },
      "execution_count": 68,
      "outputs": []
    },
    {
      "cell_type": "code",
      "source": [
        "X_altered_faces_pca = pca.transform(X_altered_faces)"
      ],
      "metadata": {
        "id": "ePwqBS4oUAGC"
      },
      "execution_count": 69,
      "outputs": []
    },
    {
      "cell_type": "code",
      "source": [
        "chosen_estimator.score_samples(X_altered_faces_pca)"
      ],
      "metadata": {
        "colab": {
          "base_uri": "https://localhost:8080/"
        },
        "id": "Pf2-nb1GUG8N",
        "outputId": "ad280ba2-ca1d-47fd-de51-4ed792e85d4a"
      },
      "execution_count": 70,
      "outputs": [
        {
          "output_type": "execute_result",
          "data": {
            "text/plain": [
              "array([-4.61762412e+08, -4.61898175e+08, -2.54481590e+08, -2.13991635e+08,\n",
              "       -4.02570696e+07, -4.03252061e+07, -4.03688410e+07])"
            ]
          },
          "metadata": {},
          "execution_count": 70
        }
      ]
    },
    {
      "cell_type": "code",
      "source": [
        "chosen_estimator.score_samples(X_train)"
      ],
      "metadata": {
        "colab": {
          "base_uri": "https://localhost:8080/"
        },
        "id": "z5kmEzbRUO_F",
        "outputId": "db76ac12-4204-491c-97e8-42fc950fc9b8"
      },
      "execution_count": 71,
      "outputs": [
        {
          "output_type": "execute_result",
          "data": {
            "text/plain": [
              "array([534.10425529, 622.75666103, 534.10424781, 622.75666271,\n",
              "       534.10425033, 534.10424769, 542.49041007, 622.75666133,\n",
              "       622.75666178, 622.75666115, 622.75666976, 622.75666246,\n",
              "       622.75666815, 622.75666801, 622.75666683, 542.49043806,\n",
              "       542.4904301 , 542.4904128 , 534.10425017, 534.10424916,\n",
              "       542.49043912, 542.49043599, 542.49041061, 622.75667763,\n",
              "       622.75667166, 534.10425022, 534.10425161, 542.49041081,\n",
              "       622.75666095, 622.75666311, 542.49041446, 534.10427174,\n",
              "       534.10426427, 534.10425285, 534.10424994, 534.10425677,\n",
              "       534.10425202, 622.75666193, 534.10426204, 534.10425987,\n",
              "       534.10425716, 534.10425825, 534.10424939, 534.10425369,\n",
              "       534.10426874, 534.10424573, 534.10424593, 534.10424636,\n",
              "       622.75666084, 622.75666185, 534.10424653, 534.1042451 ,\n",
              "       622.75666216, 622.75666183, 622.75667325, 622.75666463,\n",
              "       622.75666194, 622.75666957, 534.10424578, 622.75666175,\n",
              "       542.49043644, 542.4904247 , 534.10425021, 534.10425161,\n",
              "       542.49042864, 542.4904325 , 542.49041998, 542.49041862,\n",
              "       542.49041626, 542.4904186 , 542.49041669, 542.49041385,\n",
              "       542.49041801, 534.10424677, 622.75666205, 622.75666269,\n",
              "       622.75666101, 622.75666384, 622.75666459, 622.75666249,\n",
              "       622.75666306, 622.75666443, 542.4904138 , 542.49041771,\n",
              "       542.49042543, 534.10424857, 542.49042407, 542.4904154 ,\n",
              "       542.49042052, 542.49041439, 534.10425099, 534.10425317,\n",
              "       622.75666112, 534.10424916, 534.10424842, 542.49041129,\n",
              "       534.10425582, 542.49042735, 542.49041236, 542.49041236,\n",
              "       542.49042579, 542.49041045, 542.49041036, 542.49041281,\n",
              "       542.49041637, 622.75667059, 542.49045248, 622.756668  ,\n",
              "       542.49044117, 542.49041452, 542.49045495, 542.49044539,\n",
              "       622.75667724, 622.75666508, 622.75666529, 622.75666109,\n",
              "       622.75666161, 534.10424798, 622.75666232, 622.7566764 ,\n",
              "       542.49041064, 534.1042459 , 534.10425214, 534.10424821,\n",
              "       534.10424599, 534.10424865, 534.10424627, 534.10426087,\n",
              "       542.49041324, 534.10426167, 534.10426489, 622.756662  ,\n",
              "       534.10428914, 534.10425707, 534.10427095, 622.75668122,\n",
              "       622.75667398, 622.75666118, 622.75666726, 622.75673923,\n",
              "       622.75672034, 622.75666225, 795.52528815, 542.49041895,\n",
              "       534.1042515 , 542.49041594, 534.10425206, 534.10424729,\n",
              "       534.10424947, 795.52528776, 542.49041984, 542.49045452,\n",
              "       542.49045133, 534.10427225, 534.10425542, 542.49041793,\n",
              "       534.10425687, 795.52528866, 795.52528779, 795.52528894,\n",
              "       795.5252873 , 795.52528868, 795.52529363, 795.52529224,\n",
              "       795.525291  , 534.10425892, 542.49042902, 534.10425647,\n",
              "       542.49042345, 622.75666475, 534.10425479, 534.10425883,\n",
              "       795.52528798, 534.10425029, 622.75666102, 534.10425184,\n",
              "       534.10425393, 534.10425177, 795.52530735, 795.52530662,\n",
              "       622.75666196, 542.49041406, 542.49043364, 542.49042479,\n",
              "       534.10424913, 542.49042996, 542.49043016, 542.4904143 ,\n",
              "       542.49042903, 542.49042719, 542.49041427, 622.75666193,\n",
              "       542.49042262, 542.49042065, 542.49041474, 622.75666238,\n",
              "       622.75666144, 622.75666133, 542.49041033, 622.7566641 ,\n",
              "       622.75666055, 622.75666356, 622.75666103, 622.75666076,\n",
              "       622.75666156, 622.75666304, 622.75666143, 622.75666181,\n",
              "       542.49040903, 534.1042448 , 795.52528768, 534.10424698,\n",
              "       542.49041506, 542.49041706, 534.10424634, 795.5252878 ,\n",
              "       795.5252881 , 542.49042023, 795.52530351, 795.52529629,\n",
              "       542.49045476, 795.5252912 , 795.52529668, 542.49042617,\n",
              "       542.49043967, 795.52528816, 795.5252882 , 795.52529328,\n",
              "       795.52528979, 795.52528879, 795.52529372, 795.52528759,\n",
              "       622.75666157, 622.75666133, 622.75666094, 622.75666118,\n",
              "       622.75666028, 622.75666193, 622.75666373, 622.75666371,\n",
              "       795.52528894, 795.52529073, 795.52528754, 795.52528953,\n",
              "       795.52528914, 795.52529123, 795.5252883 , 795.52529682,\n",
              "       795.52528779, 795.5252894 , 795.52528907, 795.52528921,\n",
              "       795.52529547, 795.52530551, 795.52528934, 795.52528729,\n",
              "       534.10425735, 542.49041696, 542.49041322, 542.49041331,\n",
              "       534.10425317, 534.10424943, 534.10425615, 534.10424959,\n",
              "       534.10424479, 534.10424739, 534.10424723, 534.10425173,\n",
              "       534.10424663, 534.10424556, 795.52528918, 795.52528864,\n",
              "       795.52528812, 542.49041121, 795.52528718, 542.49041032,\n",
              "       542.49041059, 542.49044026, 542.49042418, 542.49043398,\n",
              "       542.49041569, 542.49043357, 542.49041905, 534.10424835,\n",
              "       542.49042311, 795.52529034, 795.52528899, 795.52528803,\n",
              "       795.52529518, 795.52529392, 795.52529071, 795.52529037,\n",
              "       534.10425122, 534.10428809, 534.10425591, 542.49041753,\n",
              "       534.10427634, 542.49041771, 534.10426235, 534.10430287])"
            ]
          },
          "metadata": {},
          "execution_count": 71
        }
      ]
    },
    {
      "cell_type": "markdown",
      "source": [
        "In the analysis report paste the screenshots for each question and write down the explanation if asked.\n",
        "Show the Demonstration in Lab or Create a video discussing the code and result for each question."
      ],
      "metadata": {
        "id": "Xi2ON6O2llg2"
      }
    }
  ]
}